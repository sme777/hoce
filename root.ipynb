{
 "cells": [
  {
   "cell_type": "code",
   "execution_count": 1,
   "id": "b93ec136",
   "metadata": {},
   "outputs": [
    {
     "name": "stderr",
     "output_type": "stream",
     "text": [
      "/home/sme777/.pyenv/versions/3.7.0/lib/python3.7/site-packages/pandas/compat/__init__.py:120: UserWarning: Could not import the lzma module. Your installed Python is incomplete. Attempting to use lzma compression will result in a RuntimeError.\n",
      "  warnings.warn(msg)\n"
     ]
    }
   ],
   "source": [
    "import pandas as pd\n",
    "import numpy as np\n",
    "import matplotlib.pyplot as plt\n",
    "from sklearn.linear_model import LinearRegression"
   ]
  },
  {
   "cell_type": "code",
   "execution_count": 8,
   "id": "084cc3a4",
   "metadata": {},
   "outputs": [
    {
     "data": {
      "text/html": [
       "<div>\n",
       "<style scoped>\n",
       "    .dataframe tbody tr th:only-of-type {\n",
       "        vertical-align: middle;\n",
       "    }\n",
       "\n",
       "    .dataframe tbody tr th {\n",
       "        vertical-align: top;\n",
       "    }\n",
       "\n",
       "    .dataframe thead th {\n",
       "        text-align: right;\n",
       "    }\n",
       "</style>\n",
       "<table border=\"1\" class=\"dataframe\">\n",
       "  <thead>\n",
       "    <tr style=\"text-align: right;\">\n",
       "      <th></th>\n",
       "      <th>Name</th>\n",
       "      <th>Date</th>\n",
       "      <th>Price</th>\n",
       "      <th>Flops</th>\n",
       "      <th>Quantity</th>\n",
       "    </tr>\n",
       "  </thead>\n",
       "  <tbody>\n",
       "    <tr>\n",
       "      <th>0</th>\n",
       "      <td>ENIAC</td>\n",
       "      <td>1945</td>\n",
       "      <td>7002275.00</td>\n",
       "      <td>385</td>\n",
       "      <td>1</td>\n",
       "    </tr>\n",
       "    <tr>\n",
       "      <th>1</th>\n",
       "      <td>IBM 7030 Stretch</td>\n",
       "      <td>1961</td>\n",
       "      <td>67380000.00</td>\n",
       "      <td>1200</td>\n",
       "      <td>9</td>\n",
       "    </tr>\n",
       "    <tr>\n",
       "      <th>2</th>\n",
       "      <td>Cray 1</td>\n",
       "      <td>1975</td>\n",
       "      <td>33700000.00</td>\n",
       "      <td>160000000</td>\n",
       "      <td>100</td>\n",
       "    </tr>\n",
       "    <tr>\n",
       "      <th>3</th>\n",
       "      <td>Cray 2</td>\n",
       "      <td>1985</td>\n",
       "      <td>77299124.00</td>\n",
       "      <td>1900000000</td>\n",
       "      <td>27</td>\n",
       "    </tr>\n",
       "    <tr>\n",
       "      <th>4</th>\n",
       "      <td>Pentium M 730</td>\n",
       "      <td>2003</td>\n",
       "      <td>293.98</td>\n",
       "      <td>3900000000</td>\n",
       "      <td>1000000</td>\n",
       "    </tr>\n",
       "    <tr>\n",
       "      <th>5</th>\n",
       "      <td>Sony PlayStation 4</td>\n",
       "      <td>2013</td>\n",
       "      <td>444.39</td>\n",
       "      <td>1840000000000</td>\n",
       "      <td>116900000</td>\n",
       "    </tr>\n",
       "    <tr>\n",
       "      <th>6</th>\n",
       "      <td>AMD Ryzen 3600</td>\n",
       "      <td>2019</td>\n",
       "      <td>201.46</td>\n",
       "      <td>3600000000000</td>\n",
       "      <td>50000</td>\n",
       "    </tr>\n",
       "    <tr>\n",
       "      <th>7</th>\n",
       "      <td>Xbox Series X</td>\n",
       "      <td>2020</td>\n",
       "      <td>505.16</td>\n",
       "      <td>12100000000000</td>\n",
       "      <td>12000000</td>\n",
       "    </tr>\n",
       "  </tbody>\n",
       "</table>\n",
       "</div>"
      ],
      "text/plain": [
       "                 Name  Date        Price           Flops   Quantity\n",
       "0               ENIAC  1945   7002275.00             385          1\n",
       "1    IBM 7030 Stretch  1961  67380000.00            1200          9\n",
       "2              Cray 1  1975  33700000.00       160000000        100\n",
       "3              Cray 2  1985  77299124.00      1900000000         27\n",
       "4       Pentium M 730  2003       293.98      3900000000    1000000\n",
       "5  Sony PlayStation 4  2013       444.39   1840000000000  116900000\n",
       "6      AMD Ryzen 3600  2019       201.46   3600000000000      50000\n",
       "7       Xbox Series X  2020       505.16  12100000000000   12000000"
      ]
     },
     "execution_count": 8,
     "metadata": {},
     "output_type": "execute_result"
    }
   ],
   "source": [
    "computers_df = pd.read_csv('computers.csv')\n",
    "computers_df"
   ]
  },
  {
   "cell_type": "code",
   "execution_count": 61,
   "id": "d1558d03",
   "metadata": {},
   "outputs": [],
   "source": [
    "Q = computers_df['Quantity'].tolist()\n",
    "P = computers_df['Price'].tolist()\n",
    "O = computers_df['Flops'] / 10**6\n",
    "logO = np.log(O)"
   ]
  },
  {
   "cell_type": "code",
   "execution_count": 62,
   "id": "cc9fc379",
   "metadata": {},
   "outputs": [
    {
     "data": {
      "text/plain": [
       "([[0, 0, 0, 0, 0, 0],\n",
       "  [1, 0, 0, 0, 0, 0],\n",
       "  [1, 0, 0, 1, 0, 0],\n",
       "  [1, 1, 0, 1, 1, 0],\n",
       "  [1, 1, 1, 1, 1, 1],\n",
       "  [1, 1, 1, 1, 1, 1],\n",
       "  [1, 1, 1, 1, 1, 1],\n",
       "  [1, 1, 1, 1, 1, 1]],\n",
       " [0, 0, 6.0, 1.0, 0.09, 0.022000000000000002, 0.006999999999999999, 0.005])"
      ]
     },
     "execution_count": 62,
     "metadata": {},
     "output_type": "execute_result"
    }
   ],
   "source": [
    "F, M = [], []\n",
    "computers = computers_df['Name'].tolist()\n",
    "for c in computers:\n",
    "    production_date = computers_df[computers_df['Name'] == c]['Date'].values[0]\n",
    "    fabrications = find_fabrications(production_date)\n",
    "    transistor = find_transistor(production_date)\n",
    "    F.append(fabrications)\n",
    "    M.append(transistor)\n",
    "F, M"
   ]
  },
  {
   "cell_type": "code",
   "execution_count": 70,
   "id": "730ac6ab",
   "metadata": {},
   "outputs": [
    {
     "data": {
      "text/plain": [
       "((9, 8), (8, 1))"
      ]
     },
     "execution_count": 70,
     "metadata": {},
     "output_type": "execute_result"
    }
   ],
   "source": [
    "F = np.array(F).T\n",
    "P = np.array(P)\n",
    "X = np.array([Q, M, F[0], F[1], F[2], F[3], F[4], F[5], O])\n",
    "X.shape, P.shape"
   ]
  },
  {
   "cell_type": "code",
   "execution_count": 81,
   "id": "e81b178c",
   "metadata": {},
   "outputs": [
    {
     "data": {
      "text/plain": [
       "array([[-3.91701089e+04,  3.17957107e+06, -2.61182323e+03,\n",
       "         5.73835561e+05,  5.81527152e+01, -1.39616703e+00,\n",
       "        -3.89247377e+02,  5.60780088e+01, -1.38101617e+00,\n",
       "         3.63567349e+04, -1.21735859e-03, -3.89791845e+05,\n",
       "         3.75340769e+06, -1.37008432e+06, -1.37163571e+06,\n",
       "        -1.41461691e+06, -1.37008432e+06, -1.37163571e+06,\n",
       "         6.17546910e-02, -1.59742541e+04, -2.61461746e+03,\n",
       "         5.73346305e+01, -1.24394042e-01, -2.61461746e+03,\n",
       "         5.73346305e+01, -1.24394042e-01, -3.18796899e+05,\n",
       "         5.73835774e+05,  5.60780088e+01, -1.38101617e+00,\n",
       "        -3.89247315e+02,  5.60780088e+01, -1.38101617e+00,\n",
       "         3.65777699e+04,  5.60780088e+01, -1.38101617e+00,\n",
       "         5.60780088e+01,  5.60780088e+01, -1.38101617e+00,\n",
       "         1.07140740e+05, -1.38101617e+00, -1.38101617e+00,\n",
       "        -1.38101617e+00, -1.38101617e+00, -2.03140431e+03,\n",
       "        -3.89247315e+02,  5.60780088e+01, -1.38101617e+00,\n",
       "         3.58886667e+04,  5.60780088e+01, -1.38101617e+00,\n",
       "         1.07140740e+05, -1.38101617e+00, -2.03140431e+03,\n",
       "        -8.89849034e-02]])"
      ]
     },
     "execution_count": 81,
     "metadata": {},
     "output_type": "execute_result"
    }
   ],
   "source": [
    "from sklearn.preprocessing import PolynomialFeatures\n",
    "from sklearn.linear_model import LinearRegression\n",
    "poly = PolynomialFeatures(2)\n",
    "X_poly = poly.fit_transform(X.T)\n",
    "regr = LinearRegression()\n",
    "# X_poly.shape\n",
    "regr.fit(X_poly, P)\n",
    "r2_score = regr.score(X_poly,P)\n",
    "regr.coef_"
   ]
  },
  {
   "cell_type": "code",
   "execution_count": 25,
   "id": "80f5dcfc",
   "metadata": {},
   "outputs": [
    {
     "data": {
      "text/html": [
       "<div>\n",
       "<style scoped>\n",
       "    .dataframe tbody tr th:only-of-type {\n",
       "        vertical-align: middle;\n",
       "    }\n",
       "\n",
       "    .dataframe tbody tr th {\n",
       "        vertical-align: top;\n",
       "    }\n",
       "\n",
       "    .dataframe thead th {\n",
       "        text-align: right;\n",
       "    }\n",
       "</style>\n",
       "<table border=\"1\" class=\"dataframe\">\n",
       "  <thead>\n",
       "    <tr style=\"text-align: right;\">\n",
       "      <th></th>\n",
       "      <th>dimension (mircons)</th>\n",
       "      <th>invention</th>\n",
       "    </tr>\n",
       "  </thead>\n",
       "  <tbody>\n",
       "    <tr>\n",
       "      <th>0</th>\n",
       "      <td>10.000</td>\n",
       "      <td>1971</td>\n",
       "    </tr>\n",
       "    <tr>\n",
       "      <th>1</th>\n",
       "      <td>6.000</td>\n",
       "      <td>1974</td>\n",
       "    </tr>\n",
       "    <tr>\n",
       "      <th>2</th>\n",
       "      <td>3.000</td>\n",
       "      <td>1977</td>\n",
       "    </tr>\n",
       "    <tr>\n",
       "      <th>3</th>\n",
       "      <td>1.500</td>\n",
       "      <td>1981</td>\n",
       "    </tr>\n",
       "    <tr>\n",
       "      <th>4</th>\n",
       "      <td>1.000</td>\n",
       "      <td>1984</td>\n",
       "    </tr>\n",
       "    <tr>\n",
       "      <th>5</th>\n",
       "      <td>0.800</td>\n",
       "      <td>1987</td>\n",
       "    </tr>\n",
       "    <tr>\n",
       "      <th>6</th>\n",
       "      <td>0.600</td>\n",
       "      <td>1990</td>\n",
       "    </tr>\n",
       "    <tr>\n",
       "      <th>7</th>\n",
       "      <td>0.350</td>\n",
       "      <td>1993</td>\n",
       "    </tr>\n",
       "    <tr>\n",
       "      <th>8</th>\n",
       "      <td>0.250</td>\n",
       "      <td>1996</td>\n",
       "    </tr>\n",
       "    <tr>\n",
       "      <th>9</th>\n",
       "      <td>0.180</td>\n",
       "      <td>1999</td>\n",
       "    </tr>\n",
       "    <tr>\n",
       "      <th>10</th>\n",
       "      <td>0.130</td>\n",
       "      <td>2001</td>\n",
       "    </tr>\n",
       "    <tr>\n",
       "      <th>11</th>\n",
       "      <td>0.090</td>\n",
       "      <td>2003</td>\n",
       "    </tr>\n",
       "    <tr>\n",
       "      <th>12</th>\n",
       "      <td>0.065</td>\n",
       "      <td>2005</td>\n",
       "    </tr>\n",
       "    <tr>\n",
       "      <th>13</th>\n",
       "      <td>0.045</td>\n",
       "      <td>2007</td>\n",
       "    </tr>\n",
       "    <tr>\n",
       "      <th>14</th>\n",
       "      <td>0.032</td>\n",
       "      <td>2009</td>\n",
       "    </tr>\n",
       "    <tr>\n",
       "      <th>15</th>\n",
       "      <td>0.022</td>\n",
       "      <td>2012</td>\n",
       "    </tr>\n",
       "    <tr>\n",
       "      <th>16</th>\n",
       "      <td>0.014</td>\n",
       "      <td>2014</td>\n",
       "    </tr>\n",
       "    <tr>\n",
       "      <th>17</th>\n",
       "      <td>0.010</td>\n",
       "      <td>2016</td>\n",
       "    </tr>\n",
       "    <tr>\n",
       "      <th>18</th>\n",
       "      <td>0.007</td>\n",
       "      <td>2018</td>\n",
       "    </tr>\n",
       "    <tr>\n",
       "      <th>19</th>\n",
       "      <td>0.005</td>\n",
       "      <td>2020</td>\n",
       "    </tr>\n",
       "  </tbody>\n",
       "</table>\n",
       "</div>"
      ],
      "text/plain": [
       "    dimension (mircons)  invention\n",
       "0                10.000       1971\n",
       "1                 6.000       1974\n",
       "2                 3.000       1977\n",
       "3                 1.500       1981\n",
       "4                 1.000       1984\n",
       "5                 0.800       1987\n",
       "6                 0.600       1990\n",
       "7                 0.350       1993\n",
       "8                 0.250       1996\n",
       "9                 0.180       1999\n",
       "10                0.130       2001\n",
       "11                0.090       2003\n",
       "12                0.065       2005\n",
       "13                0.045       2007\n",
       "14                0.032       2009\n",
       "15                0.022       2012\n",
       "16                0.014       2014\n",
       "17                0.010       2016\n",
       "18                0.007       2018\n",
       "19                0.005       2020"
      ]
     },
     "execution_count": 25,
     "metadata": {},
     "output_type": "execute_result"
    }
   ],
   "source": [
    "mosfet_df = pd.read_csv('mosfet.csv')\n",
    "mosfet_df"
   ]
  },
  {
   "cell_type": "code",
   "execution_count": 26,
   "id": "fdd170c1",
   "metadata": {},
   "outputs": [
    {
     "data": {
      "text/html": [
       "<div>\n",
       "<style scoped>\n",
       "    .dataframe tbody tr th:only-of-type {\n",
       "        vertical-align: middle;\n",
       "    }\n",
       "\n",
       "    .dataframe tbody tr th {\n",
       "        vertical-align: top;\n",
       "    }\n",
       "\n",
       "    .dataframe thead th {\n",
       "        text-align: right;\n",
       "    }\n",
       "</style>\n",
       "<table border=\"1\" class=\"dataframe\">\n",
       "  <thead>\n",
       "    <tr style=\"text-align: right;\">\n",
       "      <th></th>\n",
       "      <th>method</th>\n",
       "      <th>invention</th>\n",
       "    </tr>\n",
       "  </thead>\n",
       "  <tbody>\n",
       "    <tr>\n",
       "      <th>0</th>\n",
       "      <td>photolithography</td>\n",
       "      <td>1958</td>\n",
       "    </tr>\n",
       "    <tr>\n",
       "      <th>1</th>\n",
       "      <td>e-beam lithography</td>\n",
       "      <td>1980</td>\n",
       "    </tr>\n",
       "    <tr>\n",
       "      <th>2</th>\n",
       "      <td>focused ion beam</td>\n",
       "      <td>1995</td>\n",
       "    </tr>\n",
       "    <tr>\n",
       "      <th>3</th>\n",
       "      <td>liquid metal ion source</td>\n",
       "      <td>1970</td>\n",
       "    </tr>\n",
       "    <tr>\n",
       "      <th>4</th>\n",
       "      <td>scanning probe lithography</td>\n",
       "      <td>1981</td>\n",
       "    </tr>\n",
       "    <tr>\n",
       "      <th>5</th>\n",
       "      <td>dip pen lithography</td>\n",
       "      <td>1999</td>\n",
       "    </tr>\n",
       "  </tbody>\n",
       "</table>\n",
       "</div>"
      ],
      "text/plain": [
       "                       method   invention\n",
       "0            photolithography        1958\n",
       "1          e-beam lithography        1980\n",
       "2            focused ion beam        1995\n",
       "3     liquid metal ion source        1970\n",
       "4  scanning probe lithography        1981\n",
       "5         dip pen lithography        1999"
      ]
     },
     "execution_count": 26,
     "metadata": {},
     "output_type": "execute_result"
    }
   ],
   "source": [
    "fabrication_df = pd.read_csv('fabrication.csv')\n",
    "fabrication_df"
   ]
  },
  {
   "cell_type": "code",
   "execution_count": 5,
   "id": "c99c53d2",
   "metadata": {},
   "outputs": [
    {
     "data": {
      "text/plain": [
       "['ENIAC',\n",
       " 'IBM 7030 Stretch',\n",
       " 'Cray 1',\n",
       " 'Cray 2',\n",
       " 'Pentium M 730',\n",
       " 'Sony PlayStation 4',\n",
       " 'AMD Ryzen 3600',\n",
       " 'Xbox Series X']"
      ]
     },
     "execution_count": 5,
     "metadata": {},
     "output_type": "execute_result"
    }
   ],
   "source": [
    "computers = computers_df['Name'].tolist()\n",
    "computers"
   ]
  },
  {
   "cell_type": "code",
   "execution_count": 29,
   "id": "5af1a272",
   "metadata": {},
   "outputs": [
    {
     "data": {
      "text/plain": [
       "[1958, 1980, 1995, 1970, 1981, 1999]"
      ]
     },
     "execution_count": 29,
     "metadata": {},
     "output_type": "execute_result"
    }
   ],
   "source": [
    "fabrication_df[' invention'].tolist()"
   ]
  },
  {
   "cell_type": "code",
   "execution_count": 34,
   "id": "ec68e75d",
   "metadata": {},
   "outputs": [],
   "source": [
    "def find_transistor(date):\n",
    "    dates = mosfet_df['invention'].tolist()\n",
    "    closest = 0\n",
    "    for d in dates:\n",
    "        if d > date:\n",
    "            continue\n",
    "        if d > closest:\n",
    "            closest = mosfet_df.iloc[mosfet_df.index[mosfet_df['invention'] == d].tolist()[0]]['dimension (mircons)']\n",
    "    return closest\n",
    "\n",
    "def find_fabrications(date):\n",
    "    dates = fabrication_df[' invention'].tolist()\n",
    "    return [1 if date > d else 0 for d in dates]"
   ]
  },
  {
   "cell_type": "code",
   "execution_count": 120,
   "id": "00dc6383",
   "metadata": {},
   "outputs": [],
   "source": [
    "X = []\n",
    "X_a = []\n",
    "y = []\n",
    "y_a = []\n",
    "for c in computers:\n",
    "    \n",
    "    production_date = computers_df[computers_df['Name'] == c][' Date'].values[0]\n",
    "    price = computers_df[computers_df['Name'] == c][' Price'].values[0]\n",
    "    quantity = computers_df[computers_df['Name'] == c][' Quantity'].values[0]\n",
    "    transistor = find_transistor(production_date)\n",
    "    fabrications = find_fabrications(production_date)\n",
    "    x_row = [transistor/price] + [f / price for f in fabrications] + [1/price, 1]\n",
    "    x_a_row = [transistor/quantity] + [f / quantity for f in fabrications] + [1/quantity, 1]\n",
    "    \n",
    "    X.append(x_row)\n",
    "    X_a.append(x_a_row)\n",
    "    y.append(computers_df[computers_df['Name'] == c][' Flops'].values[0] / price)\n",
    "    y_a.append(computers_df[computers_df['Name'] == c][' Flops'].values[0] / quantity)"
   ]
  },
  {
   "cell_type": "code",
   "execution_count": 121,
   "id": "49f0e30e",
   "metadata": {},
   "outputs": [
    {
     "data": {
      "text/plain": [
       "([[0.0, 0.0, 0.0, 0.0, 0.0, 0.0, 0.0, 1.4281072937009756e-07, 1],\n",
       "  [0.0,\n",
       "   1.4841199168892847e-08,\n",
       "   0.0,\n",
       "   0.0,\n",
       "   0.0,\n",
       "   0.0,\n",
       "   0.0,\n",
       "   1.4841199168892847e-08,\n",
       "   1],\n",
       "  [5.857566765578635e-05,\n",
       "   2.9673590504451037e-08,\n",
       "   0.0,\n",
       "   0.0,\n",
       "   2.9673590504451037e-08,\n",
       "   0.0,\n",
       "   0.0,\n",
       "   2.9673590504451037e-08,\n",
       "   1],\n",
       "  [2.5666526311475404e-05,\n",
       "   1.2936757213445266e-08,\n",
       "   1.2936757213445266e-08,\n",
       "   0.0,\n",
       "   1.2936757213445266e-08,\n",
       "   1.2936757213445266e-08,\n",
       "   0.0,\n",
       "   1.2936757213445266e-08,\n",
       "   1],\n",
       "  [6.813388665895639,\n",
       "   0.003401591945030274,\n",
       "   0.003401591945030274,\n",
       "   0.003401591945030274,\n",
       "   0.003401591945030274,\n",
       "   0.003401591945030274,\n",
       "   0.003401591945030274,\n",
       "   0.003401591945030274,\n",
       "   1],\n",
       "  [4.527554625441617,\n",
       "   0.002250275658768199,\n",
       "   0.002250275658768199,\n",
       "   0.002250275658768199,\n",
       "   0.002250275658768199,\n",
       "   0.002250275658768199,\n",
       "   0.002250275658768199,\n",
       "   0.002250275658768199,\n",
       "   1],\n",
       "  [10.016876799364638,\n",
       "   0.0049637645190112175,\n",
       "   0.0049637645190112175,\n",
       "   0.0049637645190112175,\n",
       "   0.0049637645190112175,\n",
       "   0.0049637645190112175,\n",
       "   0.0049637645190112175,\n",
       "   0.0049637645190112175,\n",
       "   1],\n",
       "  [3.9987330746694116,\n",
       "   0.0019795708290442633,\n",
       "   0.0019795708290442633,\n",
       "   0.0019795708290442633,\n",
       "   0.0019795708290442633,\n",
       "   0.0019795708290442633,\n",
       "   0.0019795708290442633,\n",
       "   0.0019795708290442633,\n",
       "   1]],\n",
       " [5.4982130807487566e-05,\n",
       "  1.7809439002671416e-05,\n",
       "  4.747774480712166,\n",
       "  24.579838705546003,\n",
       "  13266208.585618068,\n",
       "  4140507212.1334863,\n",
       "  17869552268.440384,\n",
       "  23952807031.435585])"
      ]
     },
     "execution_count": 121,
     "metadata": {},
     "output_type": "execute_result"
    }
   ],
   "source": [
    "X, y"
   ]
  },
  {
   "cell_type": "code",
   "execution_count": 122,
   "id": "1ad22c85",
   "metadata": {},
   "outputs": [
    {
     "data": {
      "text/plain": [
       "([[0.0, 0.0, 0.0, 0.0, 0.0, 0.0, 0.0, 1.0, 1],\n",
       "  [0.0, 0.1111111111111111, 0.0, 0.0, 0.0, 0.0, 0.0, 0.1111111111111111, 1],\n",
       "  [19.74, 0.01, 0.0, 0.0, 0.01, 0.0, 0.0, 0.01, 1],\n",
       "  [73.48148148148148,\n",
       "   0.037037037037037035,\n",
       "   0.037037037037037035,\n",
       "   0.0,\n",
       "   0.037037037037037035,\n",
       "   0.037037037037037035,\n",
       "   0.0,\n",
       "   0.037037037037037035,\n",
       "   1],\n",
       "  [0.002003, 1e-06, 1e-06, 1e-06, 1e-06, 1e-06, 1e-06, 1e-06, 1],\n",
       "  [1.7211291702309665e-05,\n",
       "   8.55431993156544e-09,\n",
       "   8.55431993156544e-09,\n",
       "   8.55431993156544e-09,\n",
       "   8.55431993156544e-09,\n",
       "   8.55431993156544e-09,\n",
       "   8.55431993156544e-09,\n",
       "   8.55431993156544e-09,\n",
       "   1],\n",
       "  [0.04036, 2e-05, 2e-05, 2e-05, 2e-05, 2e-05, 2e-05, 2e-05, 1],\n",
       "  [0.00016833333333333332,\n",
       "   8.333333333333334e-08,\n",
       "   8.333333333333334e-08,\n",
       "   8.333333333333334e-08,\n",
       "   8.333333333333334e-08,\n",
       "   8.333333333333334e-08,\n",
       "   8.333333333333334e-08,\n",
       "   8.333333333333334e-08,\n",
       "   1]],\n",
       " [385.0,\n",
       "  133.33333333333334,\n",
       "  1600000.0,\n",
       "  70370370.37037037,\n",
       "  3900.0,\n",
       "  15739.948674080411,\n",
       "  72000000.0,\n",
       "  1008333.3333333334])"
      ]
     },
     "execution_count": 122,
     "metadata": {},
     "output_type": "execute_result"
    }
   ],
   "source": [
    "X_a, y_a"
   ]
  },
  {
   "cell_type": "code",
   "execution_count": 123,
   "id": "9a1b5576",
   "metadata": {},
   "outputs": [],
   "source": [
    "reg = LinearRegression().fit(X, y)"
   ]
  },
  {
   "cell_type": "code",
   "execution_count": 124,
   "id": "15899adc",
   "metadata": {},
   "outputs": [],
   "source": [
    "y_pred = reg.predict(X)"
   ]
  },
  {
   "cell_type": "code",
   "execution_count": 125,
   "id": "b27ffe47",
   "metadata": {},
   "outputs": [
    {
     "data": {
      "text/plain": [
       "array([ 3.91201754e+11, -9.54713746e+17, -3.44704269e+17,  6.11134022e+17,\n",
       "        5.31787730e+17, -3.44704269e+17,  6.11134022e+17, -1.10722426e+17,\n",
       "        0.00000000e+00])"
      ]
     },
     "execution_count": 125,
     "metadata": {},
     "output_type": "execute_result"
    }
   ],
   "source": [
    "reg.coef_"
   ]
  },
  {
   "cell_type": "code",
   "execution_count": 126,
   "id": "92970bb4",
   "metadata": {},
   "outputs": [],
   "source": [
    "from sklearn.manifold import TSNE\n",
    "from sklearn.metrics import r2_score"
   ]
  },
  {
   "cell_type": "code",
   "execution_count": 127,
   "id": "097d19c1",
   "metadata": {},
   "outputs": [
    {
     "data": {
      "text/plain": [
       "0.8543461346783179"
      ]
     },
     "execution_count": 127,
     "metadata": {},
     "output_type": "execute_result"
    }
   ],
   "source": [
    "r2_score(y, y_pred)"
   ]
  },
  {
   "cell_type": "code",
   "execution_count": 135,
   "id": "acb55c0a",
   "metadata": {},
   "outputs": [],
   "source": [
    "reg2 = LinearRegression().fit(X_a, y_a)\n",
    "y2_pred = reg2.predict(X_a)"
   ]
  },
  {
   "cell_type": "code",
   "execution_count": 136,
   "id": "f017bc17",
   "metadata": {},
   "outputs": [
    {
     "data": {
      "text/plain": [
       "array([ 2.61221885e+11, -2.67131432e+06, -1.30522717e+12, -2.65003090e+12,\n",
       "       -5.15651871e+14, -1.30522730e+12, -2.65003085e+12, -3.33631165e+05,\n",
       "        0.00000000e+00])"
      ]
     },
     "execution_count": 136,
     "metadata": {},
     "output_type": "execute_result"
    }
   ],
   "source": [
    "reg2.coef_"
   ]
  },
  {
   "cell_type": "code",
   "execution_count": 137,
   "id": "43fbfaa2",
   "metadata": {},
   "outputs": [
    {
     "data": {
      "text/plain": [
       "0.9999703208029341"
      ]
     },
     "execution_count": 137,
     "metadata": {},
     "output_type": "execute_result"
    }
   ],
   "source": [
    "r2_score(y_a, y2_pred)"
   ]
  },
  {
   "cell_type": "code",
   "execution_count": null,
   "id": "d9383c16",
   "metadata": {},
   "outputs": [],
   "source": []
  }
 ],
 "metadata": {
  "kernelspec": {
   "display_name": "Python 3 (ipykernel)",
   "language": "python",
   "name": "python3"
  },
  "language_info": {
   "codemirror_mode": {
    "name": "ipython",
    "version": 3
   },
   "file_extension": ".py",
   "mimetype": "text/x-python",
   "name": "python",
   "nbconvert_exporter": "python",
   "pygments_lexer": "ipython3",
   "version": "3.7.0"
  }
 },
 "nbformat": 4,
 "nbformat_minor": 5
}
