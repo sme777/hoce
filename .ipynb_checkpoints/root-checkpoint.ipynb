{
 "cells": [
  {
   "cell_type": "code",
   "execution_count": 1,
   "id": "2557d458",
   "metadata": {},
   "outputs": [],
   "source": [
    "import warnings\n",
    "warnings.filterwarnings('ignore')\n",
    "import os\n",
    "import sys\n",
    "import pandas as pd\n",
    "import numpy as np\n",
    "import requests\n",
    "from bs4 import BeautifulSoup\n",
    "import matplotlib.pyplot as plt\n",
    "from sklearn.linear_model import LinearRegression\n",
    "from sklearn.preprocessing import PolynomialFeatures\n",
    "from sklearn.metrics import r2_score, mean_squared_error\n",
    "from scipy.optimize import curve_fit\n",
    "import cpi\n",
    "import seaborn as sns   \n",
    "from cycler import cycler"
   ]
  },
  {
   "cell_type": "code",
   "execution_count": 2,
   "id": "98bbd4b7",
   "metadata": {},
   "outputs": [],
   "source": [
    "cpu_performance_href = \"https://jcmit.net/cpu-performance.htm\"\n",
    "memory_prices_href = \"https://jcmit.net/memoryprice.htm\""
   ]
  },
  {
   "cell_type": "code",
   "execution_count": 3,
   "id": "8891af74",
   "metadata": {},
   "outputs": [
    {
     "name": "stdout",
     "output_type": "stream",
     "text": [
      "Successfully fetched HTML content!\n"
     ]
    }
   ],
   "source": [
    "cpu_performance_html = requests.get(cpu_performance_href)\n",
    "memory_prices_html = requests.get(memory_prices_href)\n",
    "\n",
    "if cpu_performance_html.ok and memory_prices_html.ok:\n",
    "    print(\"Successfully fetched HTML content!\")\n",
    "    cpu_performance_html = cpu_performance_html.text\n",
    "    memory_prices_html = memory_prices_html.text\n",
    "else:\n",
    "    print(\"Content fetching was unsuccessful. Please check internet connection.\")"
   ]
  },
  {
   "cell_type": "code",
   "execution_count": 4,
   "id": "aebfb453",
   "metadata": {},
   "outputs": [],
   "source": [
    "def html_to_csv(content, memory=False):\n",
    "    data = []\n",
    "    list_header = []\n",
    "    soup = BeautifulSoup(content, 'html.parser')\n",
    "    header = soup.find_all(\"table\")[0].find_all(\"tr\")[0 if memory else 3]\n",
    "    \n",
    "    for items in header:\n",
    "        col_name = items.get_text()\n",
    "        if col_name == '\\n':\n",
    "            continue\n",
    "        list_header.append(col_name)\n",
    "        if col_name == 'Performance':\n",
    "            list_header.append('Quantity')\n",
    "        if col_name == 'JDR Chip Prices':\n",
    "            list_header.extend(['', ''])\n",
    "    idx = 2 if memory else 4\n",
    "    HTML_data = soup.find_all(\"table\")[0].find_all(\"tr\")[idx:]\n",
    "    \n",
    "    for element in HTML_data:\n",
    "        sub_data = []\n",
    "        for sub_element in element:\n",
    "            entry_name = sub_element.get_text()\n",
    "            if entry_name == '\\n':\n",
    "                continue\n",
    "            sub_data.append(entry_name)\n",
    "        data.append(sub_data)\n",
    "    return pd.DataFrame(data=data, columns=list_header)"
   ]
  },
  {
   "cell_type": "code",
   "execution_count": 5,
   "id": "4dc9950a",
   "metadata": {},
   "outputs": [
    {
     "data": {
      "text/html": [
       "<div>\n",
       "<style scoped>\n",
       "    .dataframe tbody tr th:only-of-type {\n",
       "        vertical-align: middle;\n",
       "    }\n",
       "\n",
       "    .dataframe tbody tr th {\n",
       "        vertical-align: top;\n",
       "    }\n",
       "\n",
       "    .dataframe thead th {\n",
       "        text-align: right;\n",
       "    }\n",
       "</style>\n",
       "<table border=\"1\" class=\"dataframe\">\n",
       "  <thead>\n",
       "    <tr style=\"text-align: right;\">\n",
       "      <th></th>\n",
       "      <th>S/N</th>\n",
       "      <th>Year</th>\n",
       "      <th>Manufacturer</th>\n",
       "      <th>Model</th>\n",
       "      <th>Family</th>\n",
       "      <th>Category</th>\n",
       "      <th>size</th>\n",
       "      <th>Rental</th>\n",
       "      <th>Price US$</th>\n",
       "      <th>MB</th>\n",
       "      <th>...</th>\n",
       "      <th>LSI-11</th>\n",
       "      <th>S2000int</th>\n",
       "      <th>S2000fp</th>\n",
       "      <th>S00rateint</th>\n",
       "      <th>S00ratefp</th>\n",
       "      <th>Specmark89</th>\n",
       "      <th>Lias'80</th>\n",
       "      <th>Knight</th>\n",
       "      <th>ref:Knight</th>\n",
       "      <th>CS-859 rel</th>\n",
       "    </tr>\n",
       "  </thead>\n",
       "  <tbody>\n",
       "    <tr>\n",
       "      <th>0</th>\n",
       "      <td>1</td>\n",
       "      <td>1944</td>\n",
       "      <td>Harvard U</td>\n",
       "      <td>Harvard Mark I</td>\n",
       "      <td></td>\n",
       "      <td></td>\n",
       "      <td></td>\n",
       "      <td></td>\n",
       "      <td>442,686</td>\n",
       "      <td></td>\n",
       "      <td>...</td>\n",
       "      <td></td>\n",
       "      <td></td>\n",
       "      <td></td>\n",
       "      <td></td>\n",
       "      <td></td>\n",
       "      <td></td>\n",
       "      <td></td>\n",
       "      <td>0.0001</td>\n",
       "      <td></td>\n",
       "      <td></td>\n",
       "    </tr>\n",
       "    <tr>\n",
       "      <th>1</th>\n",
       "      <td>2</td>\n",
       "      <td>1945</td>\n",
       "      <td>U Penn</td>\n",
       "      <td>ENIAC</td>\n",
       "      <td></td>\n",
       "      <td></td>\n",
       "      <td></td>\n",
       "      <td></td>\n",
       "      <td>487,000</td>\n",
       "      <td></td>\n",
       "      <td>...</td>\n",
       "      <td></td>\n",
       "      <td></td>\n",
       "      <td></td>\n",
       "      <td></td>\n",
       "      <td></td>\n",
       "      <td></td>\n",
       "      <td></td>\n",
       "      <td>0.0182</td>\n",
       "      <td></td>\n",
       "      <td></td>\n",
       "    </tr>\n",
       "    <tr>\n",
       "      <th>2</th>\n",
       "      <td>3</td>\n",
       "      <td>1950</td>\n",
       "      <td>MIT</td>\n",
       "      <td>Whirlwind I</td>\n",
       "      <td></td>\n",
       "      <td></td>\n",
       "      <td></td>\n",
       "      <td></td>\n",
       "      <td>708,909</td>\n",
       "      <td></td>\n",
       "      <td>...</td>\n",
       "      <td></td>\n",
       "      <td></td>\n",
       "      <td></td>\n",
       "      <td></td>\n",
       "      <td></td>\n",
       "      <td></td>\n",
       "      <td></td>\n",
       "      <td>0.0710</td>\n",
       "      <td></td>\n",
       "      <td></td>\n",
       "    </tr>\n",
       "    <tr>\n",
       "      <th>3</th>\n",
       "      <td>4</td>\n",
       "      <td>1951</td>\n",
       "      <td>Univac</td>\n",
       "      <td>UNIVAC I</td>\n",
       "      <td>tube/delay</td>\n",
       "      <td></td>\n",
       "      <td></td>\n",
       "      <td>25000</td>\n",
       "      <td>900,000</td>\n",
       "      <td>0.001</td>\n",
       "      <td>...</td>\n",
       "      <td></td>\n",
       "      <td></td>\n",
       "      <td></td>\n",
       "      <td></td>\n",
       "      <td></td>\n",
       "      <td></td>\n",
       "      <td></td>\n",
       "      <td>0.1950</td>\n",
       "      <td></td>\n",
       "      <td></td>\n",
       "    </tr>\n",
       "    <tr>\n",
       "      <th>4</th>\n",
       "      <td>5</td>\n",
       "      <td>1952</td>\n",
       "      <td></td>\n",
       "      <td>EDVAC</td>\n",
       "      <td></td>\n",
       "      <td></td>\n",
       "      <td></td>\n",
       "      <td></td>\n",
       "      <td>415,906</td>\n",
       "      <td></td>\n",
       "      <td>...</td>\n",
       "      <td></td>\n",
       "      <td></td>\n",
       "      <td></td>\n",
       "      <td></td>\n",
       "      <td></td>\n",
       "      <td></td>\n",
       "      <td></td>\n",
       "      <td>0.0217</td>\n",
       "      <td></td>\n",
       "      <td></td>\n",
       "    </tr>\n",
       "  </tbody>\n",
       "</table>\n",
       "<p>5 rows × 42 columns</p>\n",
       "</div>"
      ],
      "text/plain": [
       "  S/N  Year Manufacturer           Model      Family Category size Rental  \\\n",
       "0   1  1944    Harvard U  Harvard Mark I                                    \n",
       "1   2  1945       U Penn           ENIAC                                    \n",
       "2   3  1950          MIT     Whirlwind I                                    \n",
       "3   4  1951      Univac         UNIVAC I  tube/delay                25000   \n",
       "4   5  1952                        EDVAC                                    \n",
       "\n",
       "  Price US$     MB  ... LSI-11 S2000int S2000fp S00rateint S00ratefp  \\\n",
       "0   442,686         ...                                                \n",
       "1   487,000         ...                                                \n",
       "2   708,909         ...                                                \n",
       "3   900,000  0.001  ...                                                \n",
       "4   415,906         ...                                                \n",
       "\n",
       "  Specmark89 Lias'80  Knight ref:Knight CS-859 rel  \n",
       "0                     0.0001                        \n",
       "1                     0.0182                        \n",
       "2                     0.0710                        \n",
       "3                     0.1950                        \n",
       "4                     0.0217                        \n",
       "\n",
       "[5 rows x 42 columns]"
      ]
     },
     "execution_count": 5,
     "metadata": {},
     "output_type": "execute_result"
    }
   ],
   "source": [
    "# Fetch CPU performance data\n",
    "cpu_performance_df = html_to_csv(cpu_performance_html)\n",
    "cpu_performance_df.head()"
   ]
  },
  {
   "cell_type": "code",
   "execution_count": 6,
   "id": "6b599ae3",
   "metadata": {},
   "outputs": [],
   "source": [
    "# Apply Inflation Adjustments\n",
    "cpi.update()"
   ]
  },
  {
   "cell_type": "code",
   "execution_count": 7,
   "id": "7e72393b",
   "metadata": {},
   "outputs": [],
   "source": [
    "# Run this block once\n",
    "cpu_performance_df.replace('', 'NaN', inplace=True)\n",
    "cpu_performance_df.replace('-', 'NaN', inplace=True)\n",
    "cpu_performance_df = cpu_performance_df[cpu_performance_df['Price US$'] != 'NaN']\n",
    "cpu_performance_df['Price US$'] = cpu_performance_df['Price US$'].str.replace(',', '').astype(float)"
   ]
  },
  {
   "cell_type": "code",
   "execution_count": 8,
   "id": "477653b0",
   "metadata": {},
   "outputs": [],
   "source": [
    "cpu_performance_df[\"Adj. Price US$\"] = cpu_performance_df.apply(lambda x: cpi.inflate(x[\"Price US$\"], int(x[\"Year\"]), to=2001), axis=1)"
   ]
  },
  {
   "cell_type": "code",
   "execution_count": 9,
   "id": "1d02feff",
   "metadata": {},
   "outputs": [
    {
     "data": {
      "text/html": [
       "<div>\n",
       "<style scoped>\n",
       "    .dataframe tbody tr th:only-of-type {\n",
       "        vertical-align: middle;\n",
       "    }\n",
       "\n",
       "    .dataframe tbody tr th {\n",
       "        vertical-align: top;\n",
       "    }\n",
       "\n",
       "    .dataframe thead th {\n",
       "        text-align: right;\n",
       "    }\n",
       "</style>\n",
       "<table border=\"1\" class=\"dataframe\">\n",
       "  <thead>\n",
       "    <tr style=\"text-align: right;\">\n",
       "      <th></th>\n",
       "      <th>Year</th>\n",
       "      <th>Model</th>\n",
       "      <th>Price US$</th>\n",
       "      <th>Performance</th>\n",
       "      <th>Quantity</th>\n",
       "      <th>Adj. Price US$</th>\n",
       "    </tr>\n",
       "  </thead>\n",
       "  <tbody>\n",
       "    <tr>\n",
       "      <th>0</th>\n",
       "      <td>1944</td>\n",
       "      <td>Harvard Mark I</td>\n",
       "      <td>442686.0</td>\n",
       "      <td>0.0000001</td>\n",
       "      <td>1</td>\n",
       "      <td>4.454528e+06</td>\n",
       "    </tr>\n",
       "    <tr>\n",
       "      <th>1</th>\n",
       "      <td>1945</td>\n",
       "      <td>ENIAC</td>\n",
       "      <td>487000.0</td>\n",
       "      <td>0.0000182</td>\n",
       "      <td>1</td>\n",
       "      <td>4.791539e+06</td>\n",
       "    </tr>\n",
       "    <tr>\n",
       "      <th>2</th>\n",
       "      <td>1950</td>\n",
       "      <td>Whirlwind I</td>\n",
       "      <td>708909.0</td>\n",
       "      <td>0.0000710</td>\n",
       "      <td>1</td>\n",
       "      <td>5.209452e+06</td>\n",
       "    </tr>\n",
       "    <tr>\n",
       "      <th>3</th>\n",
       "      <td>1951</td>\n",
       "      <td>UNIVAC I</td>\n",
       "      <td>900000.0</td>\n",
       "      <td>0.00019</td>\n",
       "      <td>1</td>\n",
       "      <td>6.130385e+06</td>\n",
       "    </tr>\n",
       "    <tr>\n",
       "      <th>4</th>\n",
       "      <td>1952</td>\n",
       "      <td>EDVAC</td>\n",
       "      <td>415906.0</td>\n",
       "      <td>0.0000217</td>\n",
       "      <td>1</td>\n",
       "      <td>2.779508e+06</td>\n",
       "    </tr>\n",
       "    <tr>\n",
       "      <th>...</th>\n",
       "      <td>...</td>\n",
       "      <td>...</td>\n",
       "      <td>...</td>\n",
       "      <td>...</td>\n",
       "      <td>...</td>\n",
       "      <td>...</td>\n",
       "    </tr>\n",
       "    <tr>\n",
       "      <th>329</th>\n",
       "      <td>2001</td>\n",
       "      <td>Dell PW330-1.5</td>\n",
       "      <td>2850.0</td>\n",
       "      <td>2,495</td>\n",
       "      <td>12</td>\n",
       "      <td>2.850000e+03</td>\n",
       "    </tr>\n",
       "    <tr>\n",
       "      <th>330</th>\n",
       "      <td>2001</td>\n",
       "      <td>SUN Blade 1000</td>\n",
       "      <td>10000.0</td>\n",
       "      <td>4,189</td>\n",
       "      <td>13</td>\n",
       "      <td>1.000000e+04</td>\n",
       "    </tr>\n",
       "    <tr>\n",
       "      <th>331</th>\n",
       "      <td>2002</td>\n",
       "      <td>NEC Earth Simulator</td>\n",
       "      <td>350000000.0</td>\n",
       "      <td>28,293,540</td>\n",
       "      <td>17</td>\n",
       "      <td>3.445525e+08</td>\n",
       "    </tr>\n",
       "    <tr>\n",
       "      <th>332</th>\n",
       "      <td>2002</td>\n",
       "      <td>ASCI Q</td>\n",
       "      <td>215000000.0</td>\n",
       "      <td>10,951,320</td>\n",
       "      <td>17</td>\n",
       "      <td>2.116537e+08</td>\n",
       "    </tr>\n",
       "    <tr>\n",
       "      <th>333</th>\n",
       "      <td>2002</td>\n",
       "      <td>MCR Linux Cluster</td>\n",
       "      <td>4000000.0</td>\n",
       "      <td>6,023,226</td>\n",
       "      <td>17</td>\n",
       "      <td>3.937743e+06</td>\n",
       "    </tr>\n",
       "  </tbody>\n",
       "</table>\n",
       "<p>334 rows × 6 columns</p>\n",
       "</div>"
      ],
      "text/plain": [
       "     Year                Model    Price US$ Performance Quantity  \\\n",
       "0    1944       Harvard Mark I     442686.0   0.0000001        1   \n",
       "1    1945                ENIAC     487000.0   0.0000182        1   \n",
       "2    1950          Whirlwind I     708909.0   0.0000710        1   \n",
       "3    1951             UNIVAC I     900000.0     0.00019        1   \n",
       "4    1952                EDVAC     415906.0   0.0000217        1   \n",
       "..    ...                  ...          ...         ...      ...   \n",
       "329  2001       Dell PW330-1.5       2850.0       2,495       12   \n",
       "330  2001       SUN Blade 1000      10000.0       4,189       13   \n",
       "331  2002  NEC Earth Simulator  350000000.0  28,293,540       17   \n",
       "332  2002               ASCI Q  215000000.0  10,951,320       17   \n",
       "333  2002    MCR Linux Cluster    4000000.0   6,023,226       17   \n",
       "\n",
       "     Adj. Price US$  \n",
       "0      4.454528e+06  \n",
       "1      4.791539e+06  \n",
       "2      5.209452e+06  \n",
       "3      6.130385e+06  \n",
       "4      2.779508e+06  \n",
       "..              ...  \n",
       "329    2.850000e+03  \n",
       "330    1.000000e+04  \n",
       "331    3.445525e+08  \n",
       "332    2.116537e+08  \n",
       "333    3.937743e+06  \n",
       "\n",
       "[334 rows x 6 columns]"
      ]
     },
     "execution_count": 9,
     "metadata": {},
     "output_type": "execute_result"
    }
   ],
   "source": [
    "cpu_performance_df_filtered = cpu_performance_df.iloc[:, [1, 3, 8, 12, 13, 42]]\n",
    "cpu_performance_df_filtered = cpu_performance_df_filtered.reset_index(col_level=1)\n",
    "cpu_performance_df_filtered = cpu_performance_df_filtered.drop(columns=['index'])\n",
    "cpu_performance_df_filtered.to_csv(\"./datasets/cpu_performance.csv\")\n",
    "cpu_performance_df_filtered"
   ]
  },
  {
   "cell_type": "code",
   "execution_count": 10,
   "id": "f9de3ee2",
   "metadata": {},
   "outputs": [
    {
     "data": {
      "text/html": [
       "<div>\n",
       "<style scoped>\n",
       "    .dataframe tbody tr th:only-of-type {\n",
       "        vertical-align: middle;\n",
       "    }\n",
       "\n",
       "    .dataframe tbody tr th {\n",
       "        vertical-align: top;\n",
       "    }\n",
       "\n",
       "    .dataframe thead th {\n",
       "        text-align: right;\n",
       "    }\n",
       "</style>\n",
       "<table border=\"1\" class=\"dataframe\">\n",
       "  <thead>\n",
       "    <tr style=\"text-align: right;\">\n",
       "      <th></th>\n",
       "      <th>date (X)</th>\n",
       "      <th>$/Mbyte (Y)</th>\n",
       "      <th>Date</th>\n",
       "      <th></th>\n",
       "      <th>Ref:</th>\n",
       "      <th>Page</th>\n",
       "      <th>Company</th>\n",
       "      <th>Size</th>\n",
       "      <th>Cost</th>\n",
       "      <th>Speed</th>\n",
       "      <th>Memory Type</th>\n",
       "      <th>JDR Chip Prices</th>\n",
       "      <th></th>\n",
       "      <th></th>\n",
       "    </tr>\n",
       "  </thead>\n",
       "  <tbody>\n",
       "    <tr>\n",
       "      <th>0</th>\n",
       "      <td>1957.00</td>\n",
       "      <td>411,041,792</td>\n",
       "      <td>1957</td>\n",
       "      <td></td>\n",
       "      <td>Phister 366</td>\n",
       "      <td></td>\n",
       "      <td>C.C.C.</td>\n",
       "      <td>0.00098</td>\n",
       "      <td>392.00</td>\n",
       "      <td>10000</td>\n",
       "      <td>transistor Flip-Flop</td>\n",
       "      <td></td>\n",
       "      <td></td>\n",
       "      <td></td>\n",
       "    </tr>\n",
       "    <tr>\n",
       "      <th>1</th>\n",
       "      <td>1959.00</td>\n",
       "      <td>67,947,725</td>\n",
       "      <td>1959</td>\n",
       "      <td></td>\n",
       "      <td>Phister 366</td>\n",
       "      <td></td>\n",
       "      <td>E.E.Co.</td>\n",
       "      <td>0.00098</td>\n",
       "      <td>64.80</td>\n",
       "      <td>10000</td>\n",
       "      <td>vacuum tube Flip-Flop</td>\n",
       "      <td></td>\n",
       "      <td></td>\n",
       "      <td></td>\n",
       "    </tr>\n",
       "    <tr>\n",
       "      <th>2</th>\n",
       "      <td>1960.00</td>\n",
       "      <td>5,242,880</td>\n",
       "      <td>1960</td>\n",
       "      <td></td>\n",
       "      <td>Phister 367</td>\n",
       "      <td></td>\n",
       "      <td>IBM</td>\n",
       "      <td>0.00098</td>\n",
       "      <td>5.00</td>\n",
       "      <td>11500</td>\n",
       "      <td>IBM 1401 core memory</td>\n",
       "      <td></td>\n",
       "      <td></td>\n",
       "      <td></td>\n",
       "    </tr>\n",
       "    <tr>\n",
       "      <th>3</th>\n",
       "      <td>1965.00</td>\n",
       "      <td>2,642,412</td>\n",
       "      <td>1965</td>\n",
       "      <td></td>\n",
       "      <td>Phister 367</td>\n",
       "      <td></td>\n",
       "      <td>IBM</td>\n",
       "      <td>0.00098</td>\n",
       "      <td>2.52</td>\n",
       "      <td>2000</td>\n",
       "      <td>IBM 360/30 core memory</td>\n",
       "      <td></td>\n",
       "      <td></td>\n",
       "      <td></td>\n",
       "    </tr>\n",
       "    <tr>\n",
       "      <th>4</th>\n",
       "      <td>1970.00</td>\n",
       "      <td>734,003</td>\n",
       "      <td>1970</td>\n",
       "      <td></td>\n",
       "      <td>Phister 367</td>\n",
       "      <td></td>\n",
       "      <td>IBM</td>\n",
       "      <td>0.00098</td>\n",
       "      <td>0.70</td>\n",
       "      <td>770</td>\n",
       "      <td>IBM 370/135 core memory</td>\n",
       "      <td></td>\n",
       "      <td></td>\n",
       "      <td></td>\n",
       "    </tr>\n",
       "  </tbody>\n",
       "</table>\n",
       "</div>"
      ],
      "text/plain": [
       "  date (X)  $/Mbyte (Y)  Date           Ref: Page  Company     Size     Cost  \\\n",
       "0  1957.00  411,041,792  1957    Phister 366        C.C.C.  0.00098  392.00    \n",
       "1  1959.00   67,947,725  1959    Phister 366       E.E.Co.  0.00098   64.80    \n",
       "2  1960.00    5,242,880  1960    Phister 367           IBM  0.00098    5.00    \n",
       "3  1965.00    2,642,412  1965    Phister 367           IBM  0.00098    2.52    \n",
       "4  1970.00      734,003  1970    Phister 367           IBM  0.00098    0.70    \n",
       "\n",
       "   Speed              Memory Type JDR Chip Prices      \n",
       "0  10000     transistor Flip-Flop                      \n",
       "1  10000    vacuum tube Flip-Flop                      \n",
       "2  11500     IBM 1401 core memory                      \n",
       "3   2000   IBM 360/30 core memory                      \n",
       "4    770  IBM 370/135 core memory                      "
      ]
     },
     "execution_count": 10,
     "metadata": {},
     "output_type": "execute_result"
    }
   ],
   "source": [
    "# Fetch memory data\n",
    "memory_prices_df = html_to_csv(memory_prices_html, memory=True)\n",
    "memory_prices_df.head()"
   ]
  },
  {
   "cell_type": "code",
   "execution_count": 11,
   "id": "042c31f8",
   "metadata": {},
   "outputs": [],
   "source": [
    "# Run this block once\n",
    "memory_prices_df['date (X)'] = memory_prices_df['date (X)'].astype(float, errors='raise')\n",
    "memory_prices_df['$/Mbyte (Y)'] = memory_prices_df['$/Mbyte (Y)'].str.replace(',', '')\n",
    "memory_prices_df['$/Mbyte (Y)'] = memory_prices_df['$/Mbyte (Y)'].astype(float, errors='raise')\n",
    "memory_prices_df['Adj. $/Mbyte (Y)'] = memory_prices_df.apply(lambda x: cpi.inflate(x[\"$/Mbyte (Y)\"], int(x[\"Date\"]), to=2001), axis=1)"
   ]
  },
  {
   "cell_type": "code",
   "execution_count": 12,
   "id": "1182ece1",
   "metadata": {},
   "outputs": [
    {
     "data": {
      "text/html": [
       "<div>\n",
       "<style scoped>\n",
       "    .dataframe tbody tr th:only-of-type {\n",
       "        vertical-align: middle;\n",
       "    }\n",
       "\n",
       "    .dataframe tbody tr th {\n",
       "        vertical-align: top;\n",
       "    }\n",
       "\n",
       "    .dataframe thead th {\n",
       "        text-align: right;\n",
       "    }\n",
       "</style>\n",
       "<table border=\"1\" class=\"dataframe\">\n",
       "  <thead>\n",
       "    <tr style=\"text-align: right;\">\n",
       "      <th></th>\n",
       "      <th>date (X)</th>\n",
       "      <th>$/Mbyte (Y)</th>\n",
       "      <th>Adj. $/Mbyte (Y)</th>\n",
       "    </tr>\n",
       "  </thead>\n",
       "  <tbody>\n",
       "    <tr>\n",
       "      <th>0</th>\n",
       "      <td>1957.00</td>\n",
       "      <td>4.110418e+08</td>\n",
       "      <td>2.590587e+09</td>\n",
       "    </tr>\n",
       "    <tr>\n",
       "      <th>1</th>\n",
       "      <td>1959.00</td>\n",
       "      <td>6.794772e+07</td>\n",
       "      <td>4.135238e+08</td>\n",
       "    </tr>\n",
       "    <tr>\n",
       "      <th>2</th>\n",
       "      <td>1960.00</td>\n",
       "      <td>5.242880e+06</td>\n",
       "      <td>3.136872e+07</td>\n",
       "    </tr>\n",
       "    <tr>\n",
       "      <th>3</th>\n",
       "      <td>1965.00</td>\n",
       "      <td>2.642412e+06</td>\n",
       "      <td>1.485623e+07</td>\n",
       "    </tr>\n",
       "    <tr>\n",
       "      <th>4</th>\n",
       "      <td>1970.00</td>\n",
       "      <td>7.340030e+05</td>\n",
       "      <td>3.350308e+06</td>\n",
       "    </tr>\n",
       "    <tr>\n",
       "      <th>...</th>\n",
       "      <td>...</td>\n",
       "      <td>...</td>\n",
       "      <td>...</td>\n",
       "    </tr>\n",
       "    <tr>\n",
       "      <th>235</th>\n",
       "      <td>2003.58</td>\n",
       "      <td>1.290000e-01</td>\n",
       "      <td>1.241625e-01</td>\n",
       "    </tr>\n",
       "    <tr>\n",
       "      <th>236</th>\n",
       "      <td>2003.67</td>\n",
       "      <td>1.430000e-01</td>\n",
       "      <td>1.376375e-01</td>\n",
       "    </tr>\n",
       "    <tr>\n",
       "      <th>237</th>\n",
       "      <td>2003.75</td>\n",
       "      <td>1.480000e-01</td>\n",
       "      <td>1.424500e-01</td>\n",
       "    </tr>\n",
       "    <tr>\n",
       "      <th>238</th>\n",
       "      <td>2003.83</td>\n",
       "      <td>1.600000e-01</td>\n",
       "      <td>1.540000e-01</td>\n",
       "    </tr>\n",
       "    <tr>\n",
       "      <th>239</th>\n",
       "      <td>2003.99</td>\n",
       "      <td>1.660000e-01</td>\n",
       "      <td>1.597750e-01</td>\n",
       "    </tr>\n",
       "  </tbody>\n",
       "</table>\n",
       "<p>240 rows × 3 columns</p>\n",
       "</div>"
      ],
      "text/plain": [
       "     date (X)   $/Mbyte (Y)  Adj. $/Mbyte (Y)\n",
       "0     1957.00  4.110418e+08      2.590587e+09\n",
       "1     1959.00  6.794772e+07      4.135238e+08\n",
       "2     1960.00  5.242880e+06      3.136872e+07\n",
       "3     1965.00  2.642412e+06      1.485623e+07\n",
       "4     1970.00  7.340030e+05      3.350308e+06\n",
       "..        ...           ...               ...\n",
       "235   2003.58  1.290000e-01      1.241625e-01\n",
       "236   2003.67  1.430000e-01      1.376375e-01\n",
       "237   2003.75  1.480000e-01      1.424500e-01\n",
       "238   2003.83  1.600000e-01      1.540000e-01\n",
       "239   2003.99  1.660000e-01      1.597750e-01\n",
       "\n",
       "[240 rows x 3 columns]"
      ]
     },
     "execution_count": 12,
     "metadata": {},
     "output_type": "execute_result"
    }
   ],
   "source": [
    "memory_prices_df[memory_prices_df['date (X)'] < 2004][['date (X)', '$/Mbyte (Y)', 'Adj. $/Mbyte (Y)']]"
   ]
  },
  {
   "cell_type": "code",
   "execution_count": 13,
   "id": "44c1f9d7",
   "metadata": {},
   "outputs": [
    {
     "data": {
      "image/png": "[encoded data removed]",
      "text/plain": [
       "<Figure size 864x576 with 1 Axes>"
      ]
     },
     "metadata": {
      "needs_background": "light"
     },
     "output_type": "display_data"
    }
   ],
   "source": [
    "# Recover cost of memory for older dates\n",
    "mem_x = np.array(memory_prices_df[['date (X)', 'Adj. $/Mbyte (Y)']]['date (X)'])\n",
    "mem_y = np.log(memory_prices_df[['date (X)', 'Adj. $/Mbyte (Y)']]['Adj. $/Mbyte (Y)']).tolist()\n",
    "\n",
    "mem_x_2 = mem_x.reshape((-1, 1))\n",
    "reg = LinearRegression().fit(mem_x_2, mem_y)\n",
    "preds = reg.predict(mem_x_2)\n",
    "r2 = r2_score(mem_y, preds)\n",
    "plt.figure(figsize=(12, 8))\n",
    "sns.set_style('whitegrid')\n",
    "sns.lineplot(mem_x, preds, color='orange', lw=4)\n",
    "sns.scatterplot(mem_x, mem_y, hue=mem_x, palette=\"rocket\", legend=False)\n",
    "plt.text(2019, 18, r\"$r^{2} = 0.968$\")\n",
    "plt.xlabel('Years')\n",
    "plt.ylabel('(log) Adj. $/Mbyte (Y)')\n",
    "plt.savefig('figures/mem_cost.png')\n",
    "plt.show()"
   ]
  },
  {
   "cell_type": "code",
   "execution_count": 14,
   "id": "c64f79f4",
   "metadata": {},
   "outputs": [
    {
     "data": {
      "text/plain": [
       "array([3.67493558e+10, 2.41252517e+10, 1.58377680e+10, 1.03971928e+10,\n",
       "       6.82555895e+09, 4.48084937e+09, 2.94159221e+09, 1.93109923e+09,\n",
       "       1.26772984e+09, 8.32240480e+08, 5.46350014e+08, 3.58668372e+08,\n",
       "       2.35458951e+08])"
      ]
     },
     "execution_count": 14,
     "metadata": {},
     "output_type": "execute_result"
    }
   ],
   "source": [
    "unobserved_labels = np.array([1944.00 + i for i in range(13)]).reshape((-1, 1))\n",
    "recovered_estimates = np.exp(reg.predict(unobserved_labels))\n",
    "recovered_estimates"
   ]
  },
  {
   "cell_type": "code",
   "execution_count": 15,
   "id": "10f57eab",
   "metadata": {},
   "outputs": [],
   "source": [
    "for i in range(len(unobserved_labels)):\n",
    "    memory_prices_df = memory_prices_df.append({'date (X)': unobserved_labels[i][0], '$/Mbyte (Y)': recovered_estimates[i], 'Adj. $/Mbyte (Y)': cpi.inflate(recovered_estimates[i], int(unobserved_labels[i][0]), to=2001)}, ignore_index=True)"
   ]
  },
  {
   "cell_type": "code",
   "execution_count": 16,
   "id": "b9905404",
   "metadata": {},
   "outputs": [],
   "source": [
    "memory_prices_df = memory_prices_df.sort_values(by=['date (X)']).reset_index(drop=True)\n",
    "memory_prices_df[\"Adj. $/Mbyte (Y)\"] = memory_prices_df.apply(lambda x: cpi.inflate(x[\"$/Mbyte (Y)\"], 2001), axis=1)"
   ]
  },
  {
   "cell_type": "code",
   "execution_count": 17,
   "id": "f1473399",
   "metadata": {},
   "outputs": [
    {
     "data": {
      "text/html": [
       "<div>\n",
       "<style scoped>\n",
       "    .dataframe tbody tr th:only-of-type {\n",
       "        vertical-align: middle;\n",
       "    }\n",
       "\n",
       "    .dataframe tbody tr th {\n",
       "        vertical-align: top;\n",
       "    }\n",
       "\n",
       "    .dataframe thead th {\n",
       "        text-align: right;\n",
       "    }\n",
       "</style>\n",
       "<table border=\"1\" class=\"dataframe\">\n",
       "  <thead>\n",
       "    <tr style=\"text-align: right;\">\n",
       "      <th></th>\n",
       "      <th>date (X)</th>\n",
       "      <th>$/Mbyte (Y)</th>\n",
       "      <th>Adj. $/Mbyte (Y)</th>\n",
       "    </tr>\n",
       "  </thead>\n",
       "  <tbody>\n",
       "    <tr>\n",
       "      <th>0</th>\n",
       "      <td>1944.00</td>\n",
       "      <td>3.674936e+10</td>\n",
       "      <td>5.622797e+10</td>\n",
       "    </tr>\n",
       "    <tr>\n",
       "      <th>1</th>\n",
       "      <td>1945.00</td>\n",
       "      <td>2.412525e+10</td>\n",
       "      <td>3.691259e+10</td>\n",
       "    </tr>\n",
       "    <tr>\n",
       "      <th>2</th>\n",
       "      <td>1946.00</td>\n",
       "      <td>1.583777e+10</td>\n",
       "      <td>2.423241e+10</td>\n",
       "    </tr>\n",
       "    <tr>\n",
       "      <th>3</th>\n",
       "      <td>1947.00</td>\n",
       "      <td>1.039719e+10</td>\n",
       "      <td>1.590812e+10</td>\n",
       "    </tr>\n",
       "    <tr>\n",
       "      <th>4</th>\n",
       "      <td>1948.00</td>\n",
       "      <td>6.825559e+09</td>\n",
       "      <td>1.044337e+10</td>\n",
       "    </tr>\n",
       "    <tr>\n",
       "      <th>...</th>\n",
       "      <td>...</td>\n",
       "      <td>...</td>\n",
       "      <td>...</td>\n",
       "    </tr>\n",
       "    <tr>\n",
       "      <th>248</th>\n",
       "      <td>2003.58</td>\n",
       "      <td>1.290000e-01</td>\n",
       "      <td>1.973751e-01</td>\n",
       "    </tr>\n",
       "    <tr>\n",
       "      <th>249</th>\n",
       "      <td>2003.67</td>\n",
       "      <td>1.430000e-01</td>\n",
       "      <td>2.187957e-01</td>\n",
       "    </tr>\n",
       "    <tr>\n",
       "      <th>250</th>\n",
       "      <td>2003.75</td>\n",
       "      <td>1.480000e-01</td>\n",
       "      <td>2.264458e-01</td>\n",
       "    </tr>\n",
       "    <tr>\n",
       "      <th>251</th>\n",
       "      <td>2003.83</td>\n",
       "      <td>1.600000e-01</td>\n",
       "      <td>2.448063e-01</td>\n",
       "    </tr>\n",
       "    <tr>\n",
       "      <th>252</th>\n",
       "      <td>2003.99</td>\n",
       "      <td>1.660000e-01</td>\n",
       "      <td>2.539866e-01</td>\n",
       "    </tr>\n",
       "  </tbody>\n",
       "</table>\n",
       "<p>253 rows × 3 columns</p>\n",
       "</div>"
      ],
      "text/plain": [
       "     date (X)   $/Mbyte (Y)  Adj. $/Mbyte (Y)\n",
       "0     1944.00  3.674936e+10      5.622797e+10\n",
       "1     1945.00  2.412525e+10      3.691259e+10\n",
       "2     1946.00  1.583777e+10      2.423241e+10\n",
       "3     1947.00  1.039719e+10      1.590812e+10\n",
       "4     1948.00  6.825559e+09      1.044337e+10\n",
       "..        ...           ...               ...\n",
       "248   2003.58  1.290000e-01      1.973751e-01\n",
       "249   2003.67  1.430000e-01      2.187957e-01\n",
       "250   2003.75  1.480000e-01      2.264458e-01\n",
       "251   2003.83  1.600000e-01      2.448063e-01\n",
       "252   2003.99  1.660000e-01      2.539866e-01\n",
       "\n",
       "[253 rows x 3 columns]"
      ]
     },
     "execution_count": 17,
     "metadata": {},
     "output_type": "execute_result"
    }
   ],
   "source": [
    "memory_prices_df_filtered = memory_prices_df[memory_prices_df['date (X)'] < 2004]\n",
    "memory_prices_df_filtered = memory_prices_df_filtered.iloc[:, [0, 1, 14]]\n",
    "memory_prices_df_filtered.to_csv('datasets/memory_prices.csv')\n",
    "memory_prices_df_filtered"
   ]
  },
  {
   "cell_type": "code",
   "execution_count": 19,
   "id": "7c7b5f80",
   "metadata": {},
   "outputs": [],
   "source": [
    "# load fabrication dataset\n",
    "fabrication_df = pd.read_csv('datasets/fabrication.csv')"
   ]
  },
  {
   "cell_type": "code",
   "execution_count": 20,
   "id": "75e37eaa",
   "metadata": {},
   "outputs": [
    {
     "data": {
      "text/html": [
       "<div>\n",
       "<style scoped>\n",
       "    .dataframe tbody tr th:only-of-type {\n",
       "        vertical-align: middle;\n",
       "    }\n",
       "\n",
       "    .dataframe tbody tr th {\n",
       "        vertical-align: top;\n",
       "    }\n",
       "\n",
       "    .dataframe thead th {\n",
       "        text-align: right;\n",
       "    }\n",
       "</style>\n",
       "<table border=\"1\" class=\"dataframe\">\n",
       "  <thead>\n",
       "    <tr style=\"text-align: right;\">\n",
       "      <th></th>\n",
       "      <th>method</th>\n",
       "      <th>invention</th>\n",
       "    </tr>\n",
       "  </thead>\n",
       "  <tbody>\n",
       "    <tr>\n",
       "      <th>0</th>\n",
       "      <td>photolithography</td>\n",
       "      <td>1958</td>\n",
       "    </tr>\n",
       "    <tr>\n",
       "      <th>1</th>\n",
       "      <td>e-beam lithography</td>\n",
       "      <td>1980</td>\n",
       "    </tr>\n",
       "    <tr>\n",
       "      <th>2</th>\n",
       "      <td>focused ion beam</td>\n",
       "      <td>1995</td>\n",
       "    </tr>\n",
       "    <tr>\n",
       "      <th>3</th>\n",
       "      <td>liquid metal ion source</td>\n",
       "      <td>1970</td>\n",
       "    </tr>\n",
       "    <tr>\n",
       "      <th>4</th>\n",
       "      <td>scanning probe lithography</td>\n",
       "      <td>1981</td>\n",
       "    </tr>\n",
       "    <tr>\n",
       "      <th>5</th>\n",
       "      <td>dip pen lithography</td>\n",
       "      <td>1999</td>\n",
       "    </tr>\n",
       "  </tbody>\n",
       "</table>\n",
       "</div>"
      ],
      "text/plain": [
       "                       method   invention\n",
       "0            photolithography        1958\n",
       "1          e-beam lithography        1980\n",
       "2            focused ion beam        1995\n",
       "3     liquid metal ion source        1970\n",
       "4  scanning probe lithography        1981\n",
       "5         dip pen lithography        1999"
      ]
     },
     "execution_count": 20,
     "metadata": {},
     "output_type": "execute_result"
    }
   ],
   "source": [
    "fabrication_df"
   ]
  },
  {
   "cell_type": "code",
   "execution_count": 21,
   "id": "2a64c516",
   "metadata": {},
   "outputs": [],
   "source": [
    "def find_memory(date):\n",
    "    return memory_prices_df.iloc[(memory_prices_df_filtered['date (X)']-date).abs().argsort()[:]][(memory_prices_df_filtered['date (X)'] <= date)]['$/Mbyte (Y)'].iloc[0]\n",
    "\n",
    "def find_fabrications(date):\n",
    "    dates = fabrication_df[' invention'].tolist()\n",
    "    return [1 if date > d else 0 for d in dates]"
   ]
  },
  {
   "cell_type": "code",
   "execution_count": 22,
   "id": "f3405e3a",
   "metadata": {},
   "outputs": [],
   "source": [
    "Q = cpu_performance_df_filtered['Quantity'].str.replace('est-', '').astype(float, errors='raise').tolist()"
   ]
  },
  {
   "cell_type": "code",
   "execution_count": 23,
   "id": "75a03630",
   "metadata": {},
   "outputs": [],
   "source": [
    "P = cpu_performance_df_filtered['Price US$'].tolist()"
   ]
  },
  {
   "cell_type": "code",
   "execution_count": 24,
   "id": "2b8d80a8",
   "metadata": {},
   "outputs": [],
   "source": [
    "O = cpu_performance_df_filtered['Performance'].str.replace(',', '').astype(float, errors='raise').tolist() # measured in MIPS"
   ]
  },
  {
   "cell_type": "code",
   "execution_count": 25,
   "id": "87ae54aa",
   "metadata": {},
   "outputs": [],
   "source": [
    "M = np.array([find_memory(year) for year in cpu_performance_df_filtered['Year'].astype(float, errors='raise').tolist()])"
   ]
  },
  {
   "cell_type": "code",
   "execution_count": 26,
   "id": "ff69d59d",
   "metadata": {},
   "outputs": [],
   "source": [
    "F = np.array([find_fabrications(year) for year in cpu_performance_df_filtered['Year'].astype(float, errors='raise').tolist()]).T\n",
    "F1, F2, F3, F4, F5, F6 = F"
   ]
  },
  {
   "cell_type": "code",
   "execution_count": 27,
   "id": "614dcc84",
   "metadata": {},
   "outputs": [
    {
     "data": {
      "text/plain": [
       "(334,)"
      ]
     },
     "execution_count": 27,
     "metadata": {},
     "output_type": "execute_result"
    }
   ],
   "source": [
    "F1.shape"
   ]
  },
  {
   "cell_type": "code",
   "execution_count": 28,
   "id": "66ea8cb8",
   "metadata": {},
   "outputs": [],
   "source": [
    "X = np.zeros((334, 9))\n",
    "X[:, 0] = Q\n",
    "X[:, 1] = M\n",
    "X[:, 2] = O\n",
    "X[:, 3] = F1\n",
    "X[:, 4] = F2\n",
    "X[:, 5] = F3\n",
    "X[:, 6] = F4\n",
    "X[:, 7] = F5\n",
    "X[:, 8] = F6"
   ]
  },
  {
   "cell_type": "code",
   "execution_count": 29,
   "id": "93715dd1",
   "metadata": {},
   "outputs": [],
   "source": [
    "feature_names = ['Q', 'M', 'O', 'F1', 'F2', 'F3', 'F4', 'F5', 'F6']"
   ]
  },
  {
   "cell_type": "code",
   "execution_count": 30,
   "id": "f9b02f35",
   "metadata": {},
   "outputs": [],
   "source": [
    "Y = P"
   ]
  },
  {
   "cell_type": "code",
   "execution_count": 31,
   "id": "84001885",
   "metadata": {},
   "outputs": [],
   "source": [
    "poly_features = PolynomialFeatures(degree=2)\n",
    "X_poly = poly_features.fit_transform(X)\n",
    "poly_names = poly_features.get_feature_names(feature_names)"
   ]
  },
  {
   "cell_type": "code",
   "execution_count": 32,
   "id": "396ba309",
   "metadata": {},
   "outputs": [
    {
     "data": {
      "text/plain": [
       "{'beta0': ('1', -0.010407237848709356),\n",
       " 'beta1': ('Q', 0.014574827039271538),\n",
       " 'beta2': ('M', 0.039909690940163806),\n",
       " 'beta3': ('O', 0.07258343461879407),\n",
       " 'beta4': ('F1', -7.776236868872743e-07),\n",
       " 'beta5': ('F2', 4.503757232821037e-06),\n",
       " 'beta6': ('F3', 2.6375719237581308e-06),\n",
       " 'beta7': ('F4', 3.2100361639919583e-06),\n",
       " 'beta8': ('F5', 4.474463492609715e-06),\n",
       " 'beta9': ('F6', -7.985142298494452e-07),\n",
       " 'beta10': ('Q^2', 0.0006440299731298449),\n",
       " 'beta11': ('Q M', -0.040021509152785864),\n",
       " 'beta12': ('Q O', 1.1849656374784658),\n",
       " 'beta13': ('Q F1', 4.047147670330144e-05),\n",
       " 'beta14': ('Q F2', 5.3253299065719305e-05),\n",
       " 'beta15': ('Q F3', 4.1408560314784825e-05),\n",
       " 'beta16': ('Q F4', 4.373834905502228e-05),\n",
       " 'beta17': ('Q F5', 5.300162688431768e-05),\n",
       " 'beta18': ('Q F6', -1.3826703311843334e-05),\n",
       " 'beta19': ('M^2', 2.55351295663786e-15),\n",
       " 'beta20': ('M O', 0.11246864496534935),\n",
       " 'beta21': ('M F1', -0.010918379801175512),\n",
       " 'beta22': ('M F2', 0.0023740878139579535),\n",
       " 'beta23': ('M F3', 9.061955425373191e-05),\n",
       " 'beta24': ('M F4', -0.6779147759507763),\n",
       " 'beta25': ('M F5', 0.002116302983184354),\n",
       " 'beta26': ('M F6', -8.880805117527778e-08),\n",
       " 'beta27': ('O^2', -8.933093844504247e-08),\n",
       " 'beta28': ('O F1', 0.07258358983696042),\n",
       " 'beta29': ('O F2', 0.0726375796822899),\n",
       " 'beta30': ('O F3', 0.07260952320944139),\n",
       " 'beta31': ('O F4', 0.07260295559032312),\n",
       " 'beta32': ('O F5', 0.07263768231950782),\n",
       " 'beta33': ('O F6', -5.564924570650746),\n",
       " 'beta34': ('F1^2', -7.776236913107243e-07),\n",
       " 'beta35': ('F1 F2', 4.503757223188755e-06),\n",
       " 'beta36': ('F1 F3', 2.6375719068233943e-06),\n",
       " 'beta37': ('F1 F4', 3.2100361656450956e-06),\n",
       " 'beta38': ('F1 F5', 4.474463492419004e-06),\n",
       " 'beta39': ('F1 F6', -7.985142312098089e-07),\n",
       " 'beta40': ('F2^2', 4.503757223188755e-06),\n",
       " 'beta41': ('F2 F3', 2.6375719068233943e-06),\n",
       " 'beta42': ('F2 F4', 4.503757223188755e-06),\n",
       " 'beta43': ('F2 F5', 4.474463492419004e-06),\n",
       " 'beta44': ('F2 F6', -7.985142312098089e-07),\n",
       " 'beta45': ('F3^2', 2.6375719068233943e-06),\n",
       " 'beta46': ('F3 F4', 2.6375719068233943e-06),\n",
       " 'beta47': ('F3 F5', 2.6375719068233943e-06),\n",
       " 'beta48': ('F3 F6', -7.985142312098089e-07),\n",
       " 'beta49': ('F4^2', 3.2100361656450956e-06),\n",
       " 'beta50': ('F4 F5', 4.474463492419004e-06),\n",
       " 'beta51': ('F4 F6', -7.985142312098089e-07),\n",
       " 'beta52': ('F5^2', 4.474463492419004e-06),\n",
       " 'beta53': ('F5 F6', -7.985142312098035e-07),\n",
       " 'beta54': ('F6^2', -7.985142312098092e-07)}"
      ]
     },
     "execution_count": 32,
     "metadata": {},
     "output_type": "execute_result"
    }
   ],
   "source": [
    "regr = LinearRegression()\n",
    "regr.fit(X_poly, Y)\n",
    "pred = regr.predict(X_poly)\n",
    "coef_map = {}\n",
    "for idx, coef in enumerate(regr.coef_):\n",
    "    coef_map[f\"beta{idx}\"] = (poly_names[idx], coef)\n",
    "coef_map # list estimated coefficients and variable names"
   ]
  },
  {
   "cell_type": "code",
   "execution_count": 33,
   "id": "d57b9b09",
   "metadata": {},
   "outputs": [],
   "source": [
    "# Compute partial derivate for practicality score\n",
    "zeta_betas = [\"beta3\", \"beta12\", \"beta20\", \"beta27\", \"beta28\", \"beta29\", \"beta30\", \"beta31\", \"beta32\", \"beta33\"]\n",
    "zeta_coefs = [coef_map[beta][1] for beta in zeta_betas]\n",
    "rho_betas = [\"beta1\", \"beta10\", \"beta11\", \"beta12\", \"beta13\", \"beta14\", \"beta15\", \"beta16\", \"beta17\", \"beta18\"]\n",
    "rho_coefs = [coef_map[beta][1] for beta in rho_betas]"
   ]
  },
  {
   "cell_type": "code",
   "execution_count": 34,
   "id": "37eb441b",
   "metadata": {},
   "outputs": [],
   "source": [
    "O_fac = np.zeros(334) + zeta_coefs[0]\n",
    "Q_fac = X[:, 0] * zeta_coefs[1]\n",
    "M_fac = X[:, 1] * zeta_coefs[2]\n",
    "O2_fac = X[:, 2] * zeta_coefs[3]\n",
    "F1_fac = X[:, 3] * zeta_coefs[4]\n",
    "F2_fac = X[:, 4] * zeta_coefs[5]\n",
    "F3_fac = X[:, 5] * zeta_coefs[6]\n",
    "F4_fac = X[:, 6] * zeta_coefs[7]\n",
    "F5_fac = X[:, 7] * zeta_coefs[8]\n",
    "F6_fac = X[:, 8] * zeta_coefs[9]\n",
    "zetas = O_fac + Q_fac + M_fac + O2_fac + F1_fac + F2_fac + F3_fac + F4_fac + F5_fac + F6_fac"
   ]
  },
  {
   "cell_type": "code",
   "execution_count": 35,
   "id": "d474c21b",
   "metadata": {},
   "outputs": [],
   "source": [
    "Q_fac = np.zeros(334) + rho_coefs[0]\n",
    "Q2_fac = X[:, 0] * rho_coefs[1]\n",
    "M_fac = X[:, 1] * rho_coefs[2]\n",
    "O_fac = X[:, 2] * rho_coefs[3]\n",
    "F1_fac = X[:, 3] * rho_coefs[4]\n",
    "F2_fac = X[:, 4] * rho_coefs[5]\n",
    "F3_fac = X[:, 5] * rho_coefs[6]\n",
    "F4_fac = X[:, 6] * rho_coefs[7]\n",
    "F5_fac = X[:, 7] * rho_coefs[8]\n",
    "F6_fac = X[:, 8] * rho_coefs[9]\n",
    "rhos = Q_fac + Q2_fac + M_fac + O_fac + F1_fac + F2_fac + F3_fac + F4_fac + F5_fac + F6_fac"
   ]
  },
  {
   "cell_type": "code",
   "execution_count": 44,
   "id": "1d7f76c8",
   "metadata": {},
   "outputs": [],
   "source": [
    "years = cpu_performance_df_filtered['Year'].astype(float)"
   ]
  },
  {
   "cell_type": "code",
   "execution_count": 45,
   "id": "f9e17d3d",
   "metadata": {},
   "outputs": [
    {
     "data": {
      "text/plain": [
       "(0.9498449694718789, -739.9865572957591)"
      ]
     },
     "execution_count": 45,
     "metadata": {},
     "output_type": "execute_result"
    }
   ],
   "source": [
    "years = np.array(years).reshape((334, -1))\n",
    "log_zetas = np.nan_to_num(np.log(zetas))\n",
    "reg = LinearRegression()\n",
    "reg.fit(np.log(years), log_zetas)\n",
    "preds = reg.predict(np.log(years))\n",
    "r2_score(log_zetas, preds), reg.coef_[0]"
   ]
  },
  {
   "cell_type": "code",
   "execution_count": 46,
   "id": "70c99c0f",
   "metadata": {},
   "outputs": [],
   "source": [
    "pred_exp = np.exp(log_zetas)"
   ]
  },
  {
   "cell_type": "code",
   "execution_count": 49,
   "id": "7629c142",
   "metadata": {},
   "outputs": [
    {
     "data": {
      "image/png": "[encoded data removed]",
      "text/plain": [
       "<Figure size 864x576 with 1 Axes>"
      ]
     },
     "metadata": {},
     "output_type": "display_data"
    },
    {
     "data": {
      "image/png": "[encoded data removed]",
      "text/plain": [
       "<Figure size 864x576 with 1 Axes>"
      ]
     },
     "metadata": {},
     "output_type": "display_data"
    }
   ],
   "source": [
    "plt.style.use('ggplot')\n",
    "plt.figure(figsize=(12, 8))\n",
    "plt.subplot(2, 1, 1)\n",
    "plt.plot(np.log(years), preds, color='orange')\n",
    "plt.text(7.6, 18, r\"$r^{2} = 0.95$\")\n",
    "plt.scatter(np.log(years), np.log(zetas))\n",
    "plt.ylabel(r\"(log) $\\zeta$\")\n",
    "plt.xlabel(\"(log) Years\")\n",
    "plt.show()\n",
    "plt.figure(figsize=(12, 8))\n",
    "plt.subplot(2, 1, 2)\n",
    "plt.plot(years, pred_exp, color='orange')\n",
    "plt.scatter(years, zetas)\n",
    "plt.ylabel(r\"$\\zeta$\")\n",
    "plt.xlabel(\"Years\")\n",
    "plt.show()"
   ]
  },
  {
   "cell_type": "code",
   "execution_count": 50,
   "id": "0cb27e08",
   "metadata": {},
   "outputs": [
    {
     "data": {
      "text/plain": [
       "(0.9287541449415464, -800.3298242428821)"
      ]
     },
     "execution_count": 50,
     "metadata": {},
     "output_type": "execute_result"
    }
   ],
   "source": [
    "log_rhos = np.nan_to_num(np.log(-rhos))\n",
    "reg = LinearRegression()\n",
    "reg.fit(np.log(years), log_rhos)\n",
    "preds = reg.predict(np.log(years))\n",
    "r2_score(log_rhos, preds), reg.coef_[0]"
   ]
  },
  {
   "cell_type": "code",
   "execution_count": 51,
   "id": "2e59e1c1",
   "metadata": {},
   "outputs": [],
   "source": [
    "pred_exp = np.exp(log_rhos)"
   ]
  },
  {
   "cell_type": "code",
   "execution_count": 52,
   "id": "ca9bdf1c",
   "metadata": {},
   "outputs": [
    {
     "data": {
      "image/png": "[encoded data removed]",
      "text/plain": [
       "<Figure size 864x576 with 1 Axes>"
      ]
     },
     "metadata": {},
     "output_type": "display_data"
    },
    {
     "data": {
      "image/png": "[encoded data removed]",
      "text/plain": [
       "<Figure size 864x576 with 1 Axes>"
      ]
     },
     "metadata": {},
     "output_type": "display_data"
    }
   ],
   "source": [
    "plt.style.use('ggplot')\n",
    "plt.figure(figsize=(12, 8))\n",
    "plt.subplot(2, 1, 1)\n",
    "plt.text(7.6, 18, r\"$r^{2} = 0.93$\")\n",
    "plt.plot(np.log(years), preds, color='orange')\n",
    "plt.scatter(np.log(years), log_rhos)\n",
    "plt.ylabel(r\"(log) $\\rho$\")\n",
    "plt.xlabel(\"(log) Years\")\n",
    "plt.show()\n",
    "plt.figure(figsize=(12, 8))\n",
    "plt.subplot(2, 1, 2)\n",
    "plt.plot(years, pred_exp, color='orange')\n",
    "plt.scatter(years, -rhos)\n",
    "plt.ylabel(r\"$\\rho$\")\n",
    "plt.xlabel(\"Years\")\n",
    "plt.show()"
   ]
  },
  {
   "cell_type": "code",
   "execution_count": 53,
   "id": "0960ee4d",
   "metadata": {},
   "outputs": [],
   "source": [
    "# Compute elasticities\n",
    "zeta_elas = zetas * (X[:, 2] / Y)\n",
    "rho_elas = -rhos * (X[:, 0] / Y)\n",
    "\n",
    "def elas_avg(time):\n",
    "    i = 0\n",
    "    zeta_dec, rho_dec, time_dec = [], [], []\n",
    "    while i < len(zeta_elas):\n",
    "        if i+time > len(zetas):\n",
    "            zeta_dec.append(np.sum(zeta_elas[i:i+time]) / (len(zeta_elas) % time))\n",
    "            rho_dec.append(np.sum(rho_elas[i:i+time]) / (len(rho_elas) % time))\n",
    "            time_dec.append(np.sum(years[i:i+time]) / (len(years) % time))\n",
    "        else:\n",
    "            zeta_dec.append(np.sum(zeta_elas[i:i+time]) / time)\n",
    "            rho_dec.append(np.sum(rho_elas[i:i+time]) / time)\n",
    "            time_dec.append(np.sum(years[i:i+time]) / time)\n",
    "        i += time\n",
    "    return zeta_dec, rho_dec, time_dec\n",
    "zeta_ma5, rho_ma5, ma5 = elas_avg(5)\n",
    "zeta_ma10, rho_ma10, ma10 = elas_avg(10)\n",
    "zeta_ma20, rho_ma20, ma20 = elas_avg(20)\n",
    "zeta_ma40, rho_ma40, ma40 = elas_avg(40)"
   ]
  },
  {
   "cell_type": "code",
   "execution_count": 61,
   "id": "8de6a395",
   "metadata": {},
   "outputs": [
    {
     "data": {
      "image/png": "[encoded data removed]",
      "text/plain": [
       "<Figure size 864x576 with 1 Axes>"
      ]
     },
     "metadata": {},
     "output_type": "display_data"
    }
   ],
   "source": [
    "fig, ax = plt.subplots(figsize=(12,8))\n",
    "line1 = ax.plot(ma5, zeta_ma5, color='#EB5353', label='ma5')\n",
    "line2 = ax.plot(ma10, zeta_ma10, color='#F9D923', label='ma10')\n",
    "line3 = ax.plot(ma20, zeta_ma20, color='#36AE7C', label='ma20')\n",
    "line4 = ax.plot(ma40, zeta_ma40, color='#187498', label='ma40')\n",
    "plt.legend(['ma5', 'ma10', 'ma20', 'ma40'])\n",
    "plt.xlabel('Years')\n",
    "plt.ylabel(r'$\\zeta$ Elasticity')\n",
    "plt.savefig('figures/zeta_el_ma.png')\n",
    "plt.show()"
   ]
  },
  {
   "cell_type": "code",
   "execution_count": 62,
   "id": "9f02b3be",
   "metadata": {},
   "outputs": [
    {
     "data": {
      "image/png": "[encoded data removed]",
      "text/plain": [
       "<Figure size 864x576 with 1 Axes>"
      ]
     },
     "metadata": {},
     "output_type": "display_data"
    }
   ],
   "source": [
    "fig, ax = plt.subplots(figsize=(12,8))\n",
    "line1 = ax.plot(ma5, rho_ma5, color='#EB5353', label='ma5')\n",
    "line2 = ax.plot(ma10, rho_ma10, color='#F9D923', label='ma10')\n",
    "line3 = ax.plot(ma20, rho_ma20, color='#36AE7C', label='ma20')\n",
    "line4 = ax.plot(ma40, rho_ma40, color='#187498', label='ma40')\n",
    "plt.legend(['ma5', 'ma10', 'ma20', 'ma40'])\n",
    "plt.xlabel('Years')\n",
    "plt.ylabel(r'$\\rho$ Elasticity')\n",
    "plt.savefig('figures/rho_el_ma.png')\n",
    "plt.show()"
   ]
  },
  {
   "cell_type": "code",
   "execution_count": 64,
   "id": "3d70b329",
   "metadata": {},
   "outputs": [
    {
     "data": {
      "image/png": "[encoded data removed]",
      "text/plain": [
       "<Figure size 864x576 with 1 Axes>"
      ]
     },
     "metadata": {},
     "output_type": "display_data"
    }
   ],
   "source": [
    "plt.figure(figsize=(12, 8))\n",
    "sns.set_style('whitegrid')\n",
    "sns.scatterplot(np.log(-rhos), 1/np.log(zetas), hue=np.log(-rhos), marker='x', palette=\"turbo\", legend=False, s=50)\n",
    "plt.ylabel(r\"(log) $\\frac{1}{\\zeta}$\")\n",
    "plt.xlabel(r\"(log) $\\rho$\")\n",
    "plt.savefig('indiff_curve.png')\n",
    "plt.show()"
   ]
  },
  {
   "cell_type": "code",
   "execution_count": 68,
   "id": "5834f244",
   "metadata": {},
   "outputs": [],
   "source": [
    "quantum_scores = pd.read_csv(\"./datasets/quantum_scores.csv\")\n",
    "quantum_inv_zeta = quantum_scores['inv_zeta'].tolist()\n",
    "quantum_rho = quantum_scores['rho'].tolist()"
   ]
  },
  {
   "cell_type": "code",
   "execution_count": 69,
   "id": "6bdc05e2",
   "metadata": {},
   "outputs": [],
   "source": [
    "molecular_scores = pd.read_csv(\"./datasets/molecular_scores.csv\")\n",
    "molecular_inv_zeta = molecular_scores['inv_zeta'].tolist()\n",
    "molecular_rho = molecular_scores['rho'].tolist()"
   ]
  },
  {
   "cell_type": "code",
   "execution_count": 70,
   "id": "ef0c0f3c",
   "metadata": {},
   "outputs": [
    {
     "data": {
      "image/png": "[encoded data removed]",
      "text/plain": [
       "<Figure size 864x576 with 1 Axes>"
      ]
     },
     "metadata": {},
     "output_type": "display_data"
    }
   ],
   "source": [
    "plt.figure(figsize=(12, 8))\n",
    "sns.set_style('whitegrid')\n",
    "sns.scatterplot(np.log(-rhos), 1/np.log(zetas), marker='X', color=\"red\", s=50)\n",
    "sns.scatterplot(quantum_rho, quantum_inv_zeta, marker=\"^\", color=\"blue\", s=50)\n",
    "sns.scatterplot(molecular_rho, molecular_inv_zeta, marker=\"s\", color=\"green\", s=50)\n",
    "plt.ylabel(r\"(log) $\\frac{1}{\\zeta}$\")\n",
    "plt.xlabel(r\"(log) $\\rho$\")\n",
    "plt.legend(['Electronic', 'Quantum', 'Molecular'])\n",
    "plt.savefig('indiff_curve2.png')\n",
    "plt.show()"
   ]
  },
  {
   "cell_type": "code",
   "execution_count": null,
   "id": "5748551f",
   "metadata": {},
   "outputs": [],
   "source": [
    "%matplotlib notebook\n",
    "plt.figure(figsize=(12, 8))\n",
    "ax = plt.axes(projection='3d')\n",
    "ax.set_xlabel(r\"(log) $\\rho$\")\n",
    "ax.set_ylabel(r\"(log) $\\frac{1}{\\zeta}$\")\n",
    "ax.set_zlabel(\"Years\")\n",
    "ax.scatter3D(np.log(-rhos), 1/np.log(zetas), X.T[0], c=X.T[0], cmap='viridis', linewidth=0.5)"
   ]
  },
  {
   "cell_type": "code",
   "execution_count": null,
   "id": "b85d69ba",
   "metadata": {},
   "outputs": [],
   "source": []
  }
 ],
 "metadata": {
  "kernelspec": {
   "display_name": "Python 3 (ipykernel)",
   "language": "python",
   "name": "python3"
  },
  "language_info": {
   "codemirror_mode": {
    "name": "ipython",
    "version": 3
   },
   "file_extension": ".py",
   "mimetype": "text/x-python",
   "name": "python",
   "nbconvert_exporter": "python",
   "pygments_lexer": "ipython3",
   "version": "3.7.0"
  }
 },
 "nbformat": 4,
 "nbformat_minor": 5
}
